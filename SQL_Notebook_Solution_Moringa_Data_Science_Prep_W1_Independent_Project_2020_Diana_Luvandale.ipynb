{
  "nbformat": 4,
  "nbformat_minor": 0,
  "metadata": {
    "colab": {
      "name": "SQL_Notebook_Solution_Moringa_Data_Science_Prep_W1_Independent_Project_2020_Diana_Luvandale",
      "provenance": [],
      "collapsed_sections": [],
      "toc_visible": true
    },
    "kernelspec": {
      "name": "python3",
      "display_name": "Python 3"
    }
  },
  "cells": [
    {
      "cell_type": "markdown",
      "metadata": {
        "id": "xQthA69LVzM8",
        "colab_type": "text"
      },
      "source": [
        "# Diana Luvandale Data Science Prep W1 Independent Project: Week 1"
      ]
    },
    {
      "cell_type": "markdown",
      "metadata": {
        "id": "QKhkPFz9V-Xk",
        "colab_type": "text"
      },
      "source": [
        "## <font color=\"green\"> SQL Programming - Solution</font>"
      ]
    },
    {
      "cell_type": "markdown",
      "metadata": {
        "id": "IXN3_C7NWctx",
        "colab_type": "text"
      },
      "source": [
        "**Question:** In this section, you will act as a Data Science Consultant who will answer questions posed using a dataset collected by Dalberg. The dataset contains crops grown in Uganda.\n"
      ]
    },
    {
      "cell_type": "code",
      "metadata": {
        "id": "GadBoaVQVv3B",
        "colab_type": "code",
        "outputId": "a65c395b-22ab-4254-c2bc-2236f488a716",
        "colab": {
          "base_uri": "https://localhost:8080/",
          "height": 34
        }
      },
      "source": [
        "# Loading the sql extension\n",
        "# \n",
        "%load_ext sql\n",
        "\n",
        "# Connecing to in-memory sqlite database\n",
        "#\n",
        "%sql sqlite://"
      ],
      "execution_count": 0,
      "outputs": [
        {
          "output_type": "execute_result",
          "data": {
            "text/plain": [
              "'Connected: @None'"
            ]
          },
          "metadata": {
            "tags": []
          },
          "execution_count": 1
        }
      ]
    },
    {
      "cell_type": "code",
      "metadata": {
        "id": "88jcX7KkbD93",
        "colab_type": "code",
        "colab": {}
      },
      "source": [
        "# Importing the required libraries\n",
        "# \n",
        "import csv\n",
        "import pandas as pd"
      ],
      "execution_count": 0,
      "outputs": []
    },
    {
      "cell_type": "code",
      "metadata": {
        "id": "XdPcURXLbynI",
        "colab_type": "code",
        "outputId": "87f6e900-dcab-4962-803c-08272461318a",
        "colab": {
          "base_uri": "https://localhost:8080/",
          "height": 85
        }
      },
      "source": [
        "# Loading our dataset\n",
        "# \n",
        "with open('Uganda_Karamoja_Subcounty_Crop_Yield_Population.csv','r') as f:\n",
        "    Uganda_Crop = pd.read_csv(f, index_col=0, encoding='utf-8') \n",
        "\n",
        "# Dropping and loading data\n",
        "#\n",
        "%sql DROP TABLE if EXISTS Uganda_Crop;\n",
        "%sql PERSIST Uganda_Crop;"
      ],
      "execution_count": 0,
      "outputs": [
        {
          "output_type": "stream",
          "text": [
            " * sqlite://\n",
            "Done.\n",
            " * sqlite://\n"
          ],
          "name": "stdout"
        },
        {
          "output_type": "execute_result",
          "data": {
            "text/plain": [
              "'Persisted uganda_crop'"
            ]
          },
          "metadata": {
            "tags": []
          },
          "execution_count": 3
        }
      ]
    },
    {
      "cell_type": "code",
      "metadata": {
        "id": "njvJkRtPcZB5",
        "colab_type": "code",
        "outputId": "fca7fa05-65fb-4d86-a7ec-641b6f735c3d",
        "colab": {
          "base_uri": "https://localhost:8080/",
          "height": 1000
        }
      },
      "source": [
        "# Displaying a list of Sub Counties and their population and areas\n",
        "# \n",
        "%%sql\n",
        "SELECT subcounty_name \"Sub County\",pop Population, area \n",
        "FROM uganda_crop;"
      ],
      "execution_count": 0,
      "outputs": [
        {
          "output_type": "stream",
          "text": [
            " * sqlite://\n",
            "Done.\n"
          ],
          "name": "stdout"
        },
        {
          "output_type": "execute_result",
          "data": {
            "text/html": [
              "<table>\n",
              "    <tr>\n",
              "        <th>Sub County</th>\n",
              "        <th>Population</th>\n",
              "        <th>Area</th>\n",
              "    </tr>\n",
              "    <tr>\n",
              "        <td>KACHERI</td>\n",
              "        <td>17244</td>\n",
              "        <td>1067176155</td>\n",
              "    </tr>\n",
              "    <tr>\n",
              "        <td>KOTIDO</td>\n",
              "        <td>52771</td>\n",
              "        <td>597575188</td>\n",
              "    </tr>\n",
              "    <tr>\n",
              "        <td>KOTIDO TOWN COUNCIL</td>\n",
              "        <td>27389</td>\n",
              "        <td>23972401</td>\n",
              "    </tr>\n",
              "    <tr>\n",
              "        <td>NAKAPERIMORU</td>\n",
              "        <td>38775</td>\n",
              "        <td>419111591</td>\n",
              "    </tr>\n",
              "    <tr>\n",
              "        <td>PANYANGARA</td>\n",
              "        <td>65704</td>\n",
              "        <td>880955930</td>\n",
              "    </tr>\n",
              "    <tr>\n",
              "        <td>RENGEN</td>\n",
              "        <td>41273</td>\n",
              "        <td>652744859</td>\n",
              "    </tr>\n",
              "    <tr>\n",
              "        <td>KAABONG  EAST</td>\n",
              "        <td>42221</td>\n",
              "        <td>60801942</td>\n",
              "    </tr>\n",
              "    <tr>\n",
              "        <td>KAABONG TOWN COUNCIL</td>\n",
              "        <td>38857</td>\n",
              "        <td>13071455</td>\n",
              "    </tr>\n",
              "    <tr>\n",
              "        <td>KAABONG WEST</td>\n",
              "        <td>41454</td>\n",
              "        <td>67612362</td>\n",
              "    </tr>\n",
              "    <tr>\n",
              "        <td>KALAPATA</td>\n",
              "        <td>99203</td>\n",
              "        <td>223116860</td>\n",
              "    </tr>\n",
              "    <tr>\n",
              "        <td>KAMION</td>\n",
              "        <td>60070</td>\n",
              "        <td>1199409465</td>\n",
              "    </tr>\n",
              "    <tr>\n",
              "        <td>KAPEDO</td>\n",
              "        <td>33951</td>\n",
              "        <td>304557831</td>\n",
              "    </tr>\n",
              "    <tr>\n",
              "        <td>KATHILE</td>\n",
              "        <td>56870</td>\n",
              "        <td>228457417</td>\n",
              "    </tr>\n",
              "    <tr>\n",
              "        <td>KAWALAKOL</td>\n",
              "        <td>37691</td>\n",
              "        <td>1742041261</td>\n",
              "    </tr>\n",
              "    <tr>\n",
              "        <td>LOBALANGIT</td>\n",
              "        <td>22907</td>\n",
              "        <td>302572789</td>\n",
              "    </tr>\n",
              "    <tr>\n",
              "        <td>LODIKO</td>\n",
              "        <td>31820</td>\n",
              "        <td>397700845</td>\n",
              "    </tr>\n",
              "    <tr>\n",
              "        <td>LOLELIA</td>\n",
              "        <td>100919</td>\n",
              "        <td>1069331387</td>\n",
              "    </tr>\n",
              "    <tr>\n",
              "        <td>LOYORO</td>\n",
              "        <td>16608</td>\n",
              "        <td>1330019236</td>\n",
              "    </tr>\n",
              "    <tr>\n",
              "        <td>NAPORE (KARENGA)</td>\n",
              "        <td>20394</td>\n",
              "        <td>309577387</td>\n",
              "    </tr>\n",
              "    <tr>\n",
              "        <td>SIDOK</td>\n",
              "        <td>24092</td>\n",
              "        <td>125330583</td>\n",
              "    </tr>\n",
              "    <tr>\n",
              "        <td>ABIM</td>\n",
              "        <td>14377</td>\n",
              "        <td>188613057</td>\n",
              "    </tr>\n",
              "    <tr>\n",
              "        <td>ABIM TOWN COUNCIL</td>\n",
              "        <td>11489</td>\n",
              "        <td>115941152</td>\n",
              "    </tr>\n",
              "    <tr>\n",
              "        <td>ALEREK</td>\n",
              "        <td>12573</td>\n",
              "        <td>1255760525</td>\n",
              "    </tr>\n",
              "    <tr>\n",
              "        <td>LOTUKEI</td>\n",
              "        <td>18641</td>\n",
              "        <td>191684465</td>\n",
              "    </tr>\n",
              "    <tr>\n",
              "        <td>MORULEM</td>\n",
              "        <td>16834</td>\n",
              "        <td>250364895</td>\n",
              "    </tr>\n",
              "    <tr>\n",
              "        <td>KARITA</td>\n",
              "        <td>45015</td>\n",
              "        <td>658008801</td>\n",
              "    </tr>\n",
              "    <tr>\n",
              "        <td>LOROO</td>\n",
              "        <td>22541</td>\n",
              "        <td>371970302</td>\n",
              "    </tr>\n",
              "    <tr>\n",
              "        <td>AMUDAT</td>\n",
              "        <td>30181</td>\n",
              "        <td>596393139</td>\n",
              "    </tr>\n",
              "    <tr>\n",
              "        <td>AMUDAT TOWN COUNCIL</td>\n",
              "        <td>4053</td>\n",
              "        <td>17207110</td>\n",
              "    </tr>\n",
              "    <tr>\n",
              "        <td>KATIKEKILE</td>\n",
              "        <td>11772</td>\n",
              "        <td>277451997</td>\n",
              "    </tr>\n",
              "    <tr>\n",
              "        <td>NADUNGET</td>\n",
              "        <td>42115</td>\n",
              "        <td>596023780</td>\n",
              "    </tr>\n",
              "    <tr>\n",
              "        <td>TAPAC</td>\n",
              "        <td>21999</td>\n",
              "        <td>622266516</td>\n",
              "    </tr>\n",
              "    <tr>\n",
              "        <td>NORTHERN DIVISION</td>\n",
              "        <td>7161</td>\n",
              "        <td>2738777</td>\n",
              "    </tr>\n",
              "    <tr>\n",
              "        <td>SOUTHERN DIVISION</td>\n",
              "        <td>3272</td>\n",
              "        <td>2121209</td>\n",
              "    </tr>\n",
              "    <tr>\n",
              "        <td>LOREGAE</td>\n",
              "        <td>26644</td>\n",
              "        <td>928683431</td>\n",
              "    </tr>\n",
              "    <tr>\n",
              "        <td>NAKAPIRIPIRIT TOWN COUNCIL</td>\n",
              "        <td>1418</td>\n",
              "        <td>4673094</td>\n",
              "    </tr>\n",
              "    <tr>\n",
              "        <td>NAMALU</td>\n",
              "        <td>25905</td>\n",
              "        <td>553067364</td>\n",
              "    </tr>\n",
              "    <tr>\n",
              "        <td>KAKOMONGOLE</td>\n",
              "        <td>15960</td>\n",
              "        <td>312709097</td>\n",
              "    </tr>\n",
              "    <tr>\n",
              "        <td>LOLACHAT</td>\n",
              "        <td>22801</td>\n",
              "        <td>642401705</td>\n",
              "    </tr>\n",
              "    <tr>\n",
              "        <td>LORENGEDWAT</td>\n",
              "        <td>9929</td>\n",
              "        <td>435714604</td>\n",
              "    </tr>\n",
              "    <tr>\n",
              "        <td>NABILATUK</td>\n",
              "        <td>27534</td>\n",
              "        <td>499776866</td>\n",
              "    </tr>\n",
              "    <tr>\n",
              "        <td>IRIIRI</td>\n",
              "        <td>46979</td>\n",
              "        <td>1030623258</td>\n",
              "    </tr>\n",
              "    <tr>\n",
              "        <td>LOPEEI</td>\n",
              "        <td>18815</td>\n",
              "        <td>790782350</td>\n",
              "    </tr>\n",
              "    <tr>\n",
              "        <td>LORENGECORA</td>\n",
              "        <td>2503</td>\n",
              "        <td>118997955</td>\n",
              "    </tr>\n",
              "    <tr>\n",
              "        <td>LOTOME</td>\n",
              "        <td>17834</td>\n",
              "        <td>125857565</td>\n",
              "    </tr>\n",
              "    <tr>\n",
              "        <td>MATANY</td>\n",
              "        <td>29495</td>\n",
              "        <td>338252511</td>\n",
              "    </tr>\n",
              "    <tr>\n",
              "        <td>NAPAK TOWN COUNCIL</td>\n",
              "        <td>8010</td>\n",
              "        <td>150906375</td>\n",
              "    </tr>\n",
              "    <tr>\n",
              "        <td>NGOLERIET</td>\n",
              "        <td>20790</td>\n",
              "        <td>158887552</td>\n",
              "    </tr>\n",
              "    <tr>\n",
              "        <td>NYAKWAE</td>\n",
              "        <td>16470</td>\n",
              "        <td>769609687</td>\n",
              "    </tr>\n",
              "    <tr>\n",
              "        <td>LOKOPO</td>\n",
              "        <td>23200</td>\n",
              "        <td>1794470536</td>\n",
              "    </tr>\n",
              "    <tr>\n",
              "        <td>RUPA</td>\n",
              "        <td>41493</td>\n",
              "        <td>2069554899</td>\n",
              "    </tr>\n",
              "    <tr>\n",
              "        <td>MORUITA</td>\n",
              "        <td>16588</td>\n",
              "        <td>839293722</td>\n",
              "    </tr>\n",
              "</table>"
            ],
            "text/plain": [
              "[('KACHERI', 17244, 1067176155),\n",
              " ('KOTIDO', 52771, 597575188),\n",
              " ('KOTIDO TOWN COUNCIL', 27389, 23972401),\n",
              " ('NAKAPERIMORU', 38775, 419111591),\n",
              " ('PANYANGARA', 65704, 880955930),\n",
              " ('RENGEN', 41273, 652744859),\n",
              " ('KAABONG  EAST', 42221, 60801942),\n",
              " ('KAABONG TOWN COUNCIL', 38857, 13071455),\n",
              " ('KAABONG WEST', 41454, 67612362),\n",
              " ('KALAPATA', 99203, 223116860),\n",
              " ('KAMION', 60070, 1199409465),\n",
              " ('KAPEDO', 33951, 304557831),\n",
              " ('KATHILE', 56870, 228457417),\n",
              " ('KAWALAKOL', 37691, 1742041261),\n",
              " ('LOBALANGIT', 22907, 302572789),\n",
              " ('LODIKO', 31820, 397700845),\n",
              " ('LOLELIA', 100919, 1069331387),\n",
              " ('LOYORO', 16608, 1330019236),\n",
              " ('NAPORE (KARENGA)', 20394, 309577387),\n",
              " ('SIDOK', 24092, 125330583),\n",
              " ('ABIM', 14377, 188613057),\n",
              " ('ABIM TOWN COUNCIL', 11489, 115941152),\n",
              " ('ALEREK', 12573, 1255760525),\n",
              " ('LOTUKEI', 18641, 191684465),\n",
              " ('MORULEM', 16834, 250364895),\n",
              " ('KARITA', 45015, 658008801),\n",
              " ('LOROO', 22541, 371970302),\n",
              " ('AMUDAT', 30181, 596393139),\n",
              " ('AMUDAT TOWN COUNCIL', 4053, 17207110),\n",
              " ('KATIKEKILE', 11772, 277451997),\n",
              " ('NADUNGET', 42115, 596023780),\n",
              " ('TAPAC', 21999, 622266516),\n",
              " ('NORTHERN DIVISION', 7161, 2738777),\n",
              " ('SOUTHERN DIVISION', 3272, 2121209),\n",
              " ('LOREGAE', 26644, 928683431),\n",
              " ('NAKAPIRIPIRIT TOWN COUNCIL', 1418, 4673094),\n",
              " ('NAMALU', 25905, 553067364),\n",
              " ('KAKOMONGOLE', 15960, 312709097),\n",
              " ('LOLACHAT', 22801, 642401705),\n",
              " ('LORENGEDWAT', 9929, 435714604),\n",
              " ('NABILATUK', 27534, 499776866),\n",
              " ('IRIIRI', 46979, 1030623258),\n",
              " ('LOPEEI', 18815, 790782350),\n",
              " ('LORENGECORA', 2503, 118997955),\n",
              " ('LOTOME', 17834, 125857565),\n",
              " ('MATANY', 29495, 338252511),\n",
              " ('NAPAK TOWN COUNCIL', 8010, 150906375),\n",
              " ('NGOLERIET', 20790, 158887552),\n",
              " ('NYAKWAE', 16470, 769609687),\n",
              " ('LOKOPO', 23200, 1794470536),\n",
              " ('RUPA', 41493, 2069554899),\n",
              " ('MORUITA', 16588, 839293722)]"
            ]
          },
          "metadata": {
            "tags": []
          },
          "execution_count": 4
        }
      ]
    },
    {
      "cell_type": "code",
      "metadata": {
        "id": "UGgbvIJ2dClt",
        "colab_type": "code",
        "outputId": "3a1c8e4b-4627-46f7-9e5c-911c0fb87d2b",
        "colab": {
          "base_uri": "https://localhost:8080/",
          "height": 1000
        }
      },
      "source": [
        "# Sorting the list of districts by total crop area (descending order)\n",
        "%%sql \n",
        "SELECT district_name \"District\", Crop_Area_Ha \"Crop Area in Hectares\"\n",
        "FROM uganda_crop  \n",
        "ORDER BY Crop_Area_Ha DESC;"
      ],
      "execution_count": 0,
      "outputs": [
        {
          "output_type": "stream",
          "text": [
            " * sqlite://\n",
            "Done.\n"
          ],
          "name": "stdout"
        },
        {
          "output_type": "execute_result",
          "data": {
            "text/html": [
              "<table>\n",
              "    <tr>\n",
              "        <th>District</th>\n",
              "        <th>Crop Area in Hectares</th>\n",
              "    </tr>\n",
              "    <tr>\n",
              "        <td>KOTIDO</td>\n",
              "        <td>13587.990759999999</td>\n",
              "    </tr>\n",
              "    <tr>\n",
              "        <td>KOTIDO</td>\n",
              "        <td>13278.52043</td>\n",
              "    </tr>\n",
              "    <tr>\n",
              "        <td>KOTIDO</td>\n",
              "        <td>10398.24939</td>\n",
              "    </tr>\n",
              "    <tr>\n",
              "        <td>KOTIDO</td>\n",
              "        <td>7087.823334000001</td>\n",
              "    </tr>\n",
              "    <tr>\n",
              "        <td>KOTIDO</td>\n",
              "        <td>7023.533691</td>\n",
              "    </tr>\n",
              "    <tr>\n",
              "        <td>KAABONG</td>\n",
              "        <td>6890.699234000001</td>\n",
              "    </tr>\n",
              "    <tr>\n",
              "        <td>NAPAK</td>\n",
              "        <td>6471.047334000001</td>\n",
              "    </tr>\n",
              "    <tr>\n",
              "        <td>NAKAPIRIPIRIT</td>\n",
              "        <td>5793.5076229999995</td>\n",
              "    </tr>\n",
              "    <tr>\n",
              "        <td>NAKAPIRIPIRIT</td>\n",
              "        <td>5759.618906000001</td>\n",
              "    </tr>\n",
              "    <tr>\n",
              "        <td>NAPAK</td>\n",
              "        <td>5473.443674</td>\n",
              "    </tr>\n",
              "    <tr>\n",
              "        <td>NAKAPIRIPIRIT</td>\n",
              "        <td>5079.779088</td>\n",
              "    </tr>\n",
              "    <tr>\n",
              "        <td>KAABONG</td>\n",
              "        <td>3934.432233</td>\n",
              "    </tr>\n",
              "    <tr>\n",
              "        <td>NAKAPIRIPIRIT</td>\n",
              "        <td>3276.653762</td>\n",
              "    </tr>\n",
              "    <tr>\n",
              "        <td>NAKAPIRIPIRIT</td>\n",
              "        <td>3264.534948</td>\n",
              "    </tr>\n",
              "    <tr>\n",
              "        <td>NAPAK</td>\n",
              "        <td>3120.318045</td>\n",
              "    </tr>\n",
              "    <tr>\n",
              "        <td>NAPAK</td>\n",
              "        <td>2990.847377</td>\n",
              "    </tr>\n",
              "    <tr>\n",
              "        <td>KAABONG</td>\n",
              "        <td>2834.349905</td>\n",
              "    </tr>\n",
              "    <tr>\n",
              "        <td>KAABONG</td>\n",
              "        <td>2700.676313</td>\n",
              "    </tr>\n",
              "    <tr>\n",
              "        <td>AMUDAT</td>\n",
              "        <td>2513.27183</td>\n",
              "    </tr>\n",
              "    <tr>\n",
              "        <td>MOROTO</td>\n",
              "        <td>2480.1219</td>\n",
              "    </tr>\n",
              "    <tr>\n",
              "        <td>KAABONG</td>\n",
              "        <td>2365.259806</td>\n",
              "    </tr>\n",
              "    <tr>\n",
              "        <td>MOROTO</td>\n",
              "        <td>2217.2907170000003</td>\n",
              "    </tr>\n",
              "    <tr>\n",
              "        <td>NAKAPIRIPIRIT</td>\n",
              "        <td>2008.0681690000001</td>\n",
              "    </tr>\n",
              "    <tr>\n",
              "        <td>KAABONG</td>\n",
              "        <td>1890.248613</td>\n",
              "    </tr>\n",
              "    <tr>\n",
              "        <td>NAPAK</td>\n",
              "        <td>1849.966589</td>\n",
              "    </tr>\n",
              "    <tr>\n",
              "        <td>KOTIDO</td>\n",
              "        <td>1656.5318550000002</td>\n",
              "    </tr>\n",
              "    <tr>\n",
              "        <td>AMUDAT</td>\n",
              "        <td>1651.99842</td>\n",
              "    </tr>\n",
              "    <tr>\n",
              "        <td>AMUDAT</td>\n",
              "        <td>1539.401382</td>\n",
              "    </tr>\n",
              "    <tr>\n",
              "        <td>KAABONG</td>\n",
              "        <td>1494.047587</td>\n",
              "    </tr>\n",
              "    <tr>\n",
              "        <td>KAABONG</td>\n",
              "        <td>1491.771813</td>\n",
              "    </tr>\n",
              "    <tr>\n",
              "        <td>ABIM</td>\n",
              "        <td>1266.109868</td>\n",
              "    </tr>\n",
              "    <tr>\n",
              "        <td>NAPAK</td>\n",
              "        <td>1215.227445</td>\n",
              "    </tr>\n",
              "    <tr>\n",
              "        <td>NAKAPIRIPIRIT</td>\n",
              "        <td>1161.3902289999999</td>\n",
              "    </tr>\n",
              "    <tr>\n",
              "        <td>MOROTO</td>\n",
              "        <td>1111.664207</td>\n",
              "    </tr>\n",
              "    <tr>\n",
              "        <td>NAPAK</td>\n",
              "        <td>1031.196285</td>\n",
              "    </tr>\n",
              "    <tr>\n",
              "        <td>KAABONG</td>\n",
              "        <td>1021.31699</td>\n",
              "    </tr>\n",
              "    <tr>\n",
              "        <td>ABIM</td>\n",
              "        <td>999.3715888</td>\n",
              "    </tr>\n",
              "    <tr>\n",
              "        <td>KAABONG</td>\n",
              "        <td>997.1610206</td>\n",
              "    </tr>\n",
              "    <tr>\n",
              "        <td>KAABONG</td>\n",
              "        <td>967.3367266</td>\n",
              "    </tr>\n",
              "    <tr>\n",
              "        <td>KAABONG</td>\n",
              "        <td>957.4939457999999</td>\n",
              "    </tr>\n",
              "    <tr>\n",
              "        <td>ABIM</td>\n",
              "        <td>925.0541302000001</td>\n",
              "    </tr>\n",
              "    <tr>\n",
              "        <td>ABIM</td>\n",
              "        <td>792.8987889</td>\n",
              "    </tr>\n",
              "    <tr>\n",
              "        <td>NAPAK</td>\n",
              "        <td>792.2492731000001</td>\n",
              "    </tr>\n",
              "    <tr>\n",
              "        <td>ABIM</td>\n",
              "        <td>788.4628001</td>\n",
              "    </tr>\n",
              "    <tr>\n",
              "        <td>ABIM</td>\n",
              "        <td>698.1712182</td>\n",
              "    </tr>\n",
              "    <tr>\n",
              "        <td>KAABONG</td>\n",
              "        <td>401.7978207</td>\n",
              "    </tr>\n",
              "    <tr>\n",
              "        <td>KAABONG</td>\n",
              "        <td>175.08052659999998</td>\n",
              "    </tr>\n",
              "    <tr>\n",
              "        <td>MOROTO</td>\n",
              "        <td>145.243518</td>\n",
              "    </tr>\n",
              "    <tr>\n",
              "        <td>AMUDAT</td>\n",
              "        <td>60.77208552</td>\n",
              "    </tr>\n",
              "    <tr>\n",
              "        <td>NAKAPIRIPIRIT</td>\n",
              "        <td>29.14576036</td>\n",
              "    </tr>\n",
              "    <tr>\n",
              "        <td>MOROTO</td>\n",
              "        <td>0.322315707</td>\n",
              "    </tr>\n",
              "    <tr>\n",
              "        <td>MOROTO</td>\n",
              "        <td>0.17139046100000002</td>\n",
              "    </tr>\n",
              "</table>"
            ],
            "text/plain": [
              "[('KOTIDO', 13587.990759999999),\n",
              " ('KOTIDO', 13278.52043),\n",
              " ('KOTIDO', 10398.24939),\n",
              " ('KOTIDO', 7087.823334000001),\n",
              " ('KOTIDO', 7023.533691),\n",
              " ('KAABONG', 6890.699234000001),\n",
              " ('NAPAK', 6471.047334000001),\n",
              " ('NAKAPIRIPIRIT', 5793.5076229999995),\n",
              " ('NAKAPIRIPIRIT', 5759.618906000001),\n",
              " ('NAPAK', 5473.443674),\n",
              " ('NAKAPIRIPIRIT', 5079.779088),\n",
              " ('KAABONG', 3934.432233),\n",
              " ('NAKAPIRIPIRIT', 3276.653762),\n",
              " ('NAKAPIRIPIRIT', 3264.534948),\n",
              " ('NAPAK', 3120.318045),\n",
              " ('NAPAK', 2990.847377),\n",
              " ('KAABONG', 2834.349905),\n",
              " ('KAABONG', 2700.676313),\n",
              " ('AMUDAT', 2513.27183),\n",
              " ('MOROTO', 2480.1219),\n",
              " ('KAABONG', 2365.259806),\n",
              " ('MOROTO', 2217.2907170000003),\n",
              " ('NAKAPIRIPIRIT', 2008.0681690000001),\n",
              " ('KAABONG', 1890.248613),\n",
              " ('NAPAK', 1849.966589),\n",
              " ('KOTIDO', 1656.5318550000002),\n",
              " ('AMUDAT', 1651.99842),\n",
              " ('AMUDAT', 1539.401382),\n",
              " ('KAABONG', 1494.047587),\n",
              " ('KAABONG', 1491.771813),\n",
              " ('ABIM', 1266.109868),\n",
              " ('NAPAK', 1215.227445),\n",
              " ('NAKAPIRIPIRIT', 1161.3902289999999),\n",
              " ('MOROTO', 1111.664207),\n",
              " ('NAPAK', 1031.196285),\n",
              " ('KAABONG', 1021.31699),\n",
              " ('ABIM', 999.3715888),\n",
              " ('KAABONG', 997.1610206),\n",
              " ('KAABONG', 967.3367266),\n",
              " ('KAABONG', 957.4939457999999),\n",
              " ('ABIM', 925.0541302000001),\n",
              " ('ABIM', 792.8987889),\n",
              " ('NAPAK', 792.2492731000001),\n",
              " ('ABIM', 788.4628001),\n",
              " ('ABIM', 698.1712182),\n",
              " ('KAABONG', 401.7978207),\n",
              " ('KAABONG', 175.08052659999998),\n",
              " ('MOROTO', 145.243518),\n",
              " ('AMUDAT', 60.77208552),\n",
              " ('NAKAPIRIPIRIT', 29.14576036),\n",
              " ('MOROTO', 0.322315707),\n",
              " ('MOROTO', 0.17139046100000002)]"
            ]
          },
          "metadata": {
            "tags": []
          },
          "execution_count": 5
        }
      ]
    },
    {
      "cell_type": "code",
      "metadata": {
        "id": "WDoDK4PPd6TN",
        "colab_type": "code",
        "outputId": "6762608e-6a62-42bb-f4f9-27f9c72edd19",
        "colab": {
          "base_uri": "https://localhost:8080/",
          "height": 200
        }
      },
      "source": [
        "# Selecting only the Sub counties from the Moroto district, \n",
        "# ordering them alphabetically and showing their production of sorghum\n",
        "%%sql\n",
        "SELECT subcounty_name \"Sub County\", S_Prod_Tot \"Sorghum Production\"\n",
        "FROM uganda_crop \n",
        "where district_name = \"MOROTO\"  \n",
        "ORDER BY subcounty_name asc;"
      ],
      "execution_count": 0,
      "outputs": [
        {
          "output_type": "stream",
          "text": [
            " * sqlite://\n",
            "Done.\n"
          ],
          "name": "stdout"
        },
        {
          "output_type": "execute_result",
          "data": {
            "text/html": [
              "<table>\n",
              "    <tr>\n",
              "        <th>Sub County</th>\n",
              "        <th>Sorghum Production</th>\n",
              "    </tr>\n",
              "    <tr>\n",
              "        <td>KATIKEKILE</td>\n",
              "        <td>9379.029413</td>\n",
              "    </tr>\n",
              "    <tr>\n",
              "        <td>NADUNGET</td>\n",
              "        <td>321630.539</td>\n",
              "    </tr>\n",
              "    <tr>\n",
              "        <td>NORTHERN DIVISION</td>\n",
              "        <td>17.28125956</td>\n",
              "    </tr>\n",
              "    <tr>\n",
              "        <td>RUPA</td>\n",
              "        <td>227298.5184</td>\n",
              "    </tr>\n",
              "    <tr>\n",
              "        <td>SOUTHERN DIVISION</td>\n",
              "        <td>19.67486547</td>\n",
              "    </tr>\n",
              "    <tr>\n",
              "        <td>TAPAC</td>\n",
              "        <td>49251.66081</td>\n",
              "    </tr>\n",
              "</table>"
            ],
            "text/plain": [
              "[('KATIKEKILE', 9379.029413),\n",
              " ('NADUNGET', 321630.539),\n",
              " ('NORTHERN DIVISION', 17.28125956),\n",
              " ('RUPA', 227298.5184),\n",
              " ('SOUTHERN DIVISION', 19.67486547),\n",
              " ('TAPAC', 49251.66081)]"
            ]
          },
          "metadata": {
            "tags": []
          },
          "execution_count": 6
        }
      ]
    },
    {
      "cell_type": "code",
      "metadata": {
        "id": "wlitmKRJo4UI",
        "colab_type": "code",
        "outputId": "6a83da3a-256c-4d8e-d6b4-67ee35968de2",
        "colab": {
          "base_uri": "https://localhost:8080/",
          "height": 221
        }
      },
      "source": [
        "# total Maize production per District\n",
        "%%sql\n",
        "SELECT district_name \"District\", total(M_Prod_Tot) \"Total Maize Production\"\n",
        "FROM uganda_crop\n",
        "GROUP BY district_name\n",
        "ORDER BY total(M_Prod_Tot) DESC"
      ],
      "execution_count": 0,
      "outputs": [
        {
          "output_type": "stream",
          "text": [
            " * sqlite://\n",
            "Done.\n"
          ],
          "name": "stdout"
        },
        {
          "output_type": "execute_result",
          "data": {
            "text/html": [
              "<table>\n",
              "    <tr>\n",
              "        <th>District</th>\n",
              "        <th>Total Maize Production</th>\n",
              "    </tr>\n",
              "    <tr>\n",
              "        <td>NAKAPIRIPIRIT</td>\n",
              "        <td>8125156.24546</td>\n",
              "    </tr>\n",
              "    <tr>\n",
              "        <td>KAABONG</td>\n",
              "        <td>6990361.6143000005</td>\n",
              "    </tr>\n",
              "    <tr>\n",
              "        <td>NAPAK</td>\n",
              "        <td>5587379.38888</td>\n",
              "    </tr>\n",
              "    <tr>\n",
              "        <td>AMUDAT</td>\n",
              "        <td>3546469.3324990002</td>\n",
              "    </tr>\n",
              "    <tr>\n",
              "        <td>KOTIDO</td>\n",
              "        <td>2010179.0731479998</td>\n",
              "    </tr>\n",
              "    <tr>\n",
              "        <td>ABIM</td>\n",
              "        <td>1922133.1297</td>\n",
              "    </tr>\n",
              "    <tr>\n",
              "        <td>MOROTO</td>\n",
              "        <td>422116.06882464996</td>\n",
              "    </tr>\n",
              "</table>"
            ],
            "text/plain": [
              "[('NAKAPIRIPIRIT', 8125156.24546),\n",
              " ('KAABONG', 6990361.6143000005),\n",
              " ('NAPAK', 5587379.38888),\n",
              " ('AMUDAT', 3546469.3324990002),\n",
              " ('KOTIDO', 2010179.0731479998),\n",
              " ('ABIM', 1922133.1297),\n",
              " ('MOROTO', 422116.06882464996)]"
            ]
          },
          "metadata": {
            "tags": []
          },
          "execution_count": 7
        }
      ]
    },
    {
      "cell_type": "code",
      "metadata": {
        "id": "25TcMmRwo84f",
        "colab_type": "code",
        "outputId": "e5ffbd92-73b0-4819-e090-e8fe332a7ab3",
        "colab": {
          "base_uri": "https://localhost:8080/",
          "height": 221
        }
      },
      "source": [
        "# number of sub counties where Maize is produced \n",
        "# and the total Maize production per District\n",
        "%%sql\n",
        "SELECT district_name \"District\", sum(M_Prod_Tot) \"Maize Prod Per District\",count(subcounty_name) \"Sub County Count\"\n",
        "FROM uganda_crop\n",
        "WHERE (M_Prod_Tot >0) or (M_Prod_Tot is null)\n",
        "GROUP BY district_name"
      ],
      "execution_count": 0,
      "outputs": [
        {
          "output_type": "stream",
          "text": [
            " * sqlite://\n",
            "Done.\n"
          ],
          "name": "stdout"
        },
        {
          "output_type": "execute_result",
          "data": {
            "text/html": [
              "<table>\n",
              "    <tr>\n",
              "        <th>District</th>\n",
              "        <th>Maize Prod Per District</th>\n",
              "        <th>Sub County Count</th>\n",
              "    </tr>\n",
              "    <tr>\n",
              "        <td>ABIM</td>\n",
              "        <td>1922133.1297</td>\n",
              "        <td>6</td>\n",
              "    </tr>\n",
              "    <tr>\n",
              "        <td>AMUDAT</td>\n",
              "        <td>3546469.3324990002</td>\n",
              "        <td>4</td>\n",
              "    </tr>\n",
              "    <tr>\n",
              "        <td>KAABONG</td>\n",
              "        <td>6990361.6143000005</td>\n",
              "        <td>14</td>\n",
              "    </tr>\n",
              "    <tr>\n",
              "        <td>KOTIDO</td>\n",
              "        <td>2010179.0731479998</td>\n",
              "        <td>6</td>\n",
              "    </tr>\n",
              "    <tr>\n",
              "        <td>MOROTO</td>\n",
              "        <td>422116.06882464996</td>\n",
              "        <td>5</td>\n",
              "    </tr>\n",
              "    <tr>\n",
              "        <td>NAKAPIRIPIRIT</td>\n",
              "        <td>8125156.24546</td>\n",
              "        <td>8</td>\n",
              "    </tr>\n",
              "    <tr>\n",
              "        <td>NAPAK</td>\n",
              "        <td>5587379.38888</td>\n",
              "        <td>8</td>\n",
              "    </tr>\n",
              "</table>"
            ],
            "text/plain": [
              "[('ABIM', 1922133.1297, 6),\n",
              " ('AMUDAT', 3546469.3324990002, 4),\n",
              " ('KAABONG', 6990361.6143000005, 14),\n",
              " ('KOTIDO', 2010179.0731479998, 6),\n",
              " ('MOROTO', 422116.06882464996, 5),\n",
              " ('NAKAPIRIPIRIT', 8125156.24546, 8),\n",
              " ('NAPAK', 5587379.38888, 8)]"
            ]
          },
          "metadata": {
            "tags": []
          },
          "execution_count": 8
        }
      ]
    },
    {
      "cell_type": "code",
      "metadata": {
        "id": "wghb2V9no9dR",
        "colab_type": "code",
        "outputId": "ff774779-37c4-4b34-970c-c096a963e5c6",
        "colab": {
          "base_uri": "https://localhost:8080/",
          "height": 95
        }
      },
      "source": [
        "#overall Crop area in all Sub counties where population is over 20000\n",
        "%%sql\n",
        "SELECT sum(Crop_Area_Ha) \n",
        "FROM uganda_crop \n",
        "WHERE pop >20000"
      ],
      "execution_count": 0,
      "outputs": [
        {
          "output_type": "stream",
          "text": [
            " * sqlite://\n",
            "Done.\n"
          ],
          "name": "stdout"
        },
        {
          "output_type": "execute_result",
          "data": {
            "text/html": [
              "<table>\n",
              "    <tr>\n",
              "        <th>sum(Crop_Area_Ha)</th>\n",
              "    </tr>\n",
              "    <tr>\n",
              "        <td>120212.89015529997</td>\n",
              "    </tr>\n",
              "</table>"
            ],
            "text/plain": [
              "[(120212.89015529997,)]"
            ]
          },
          "metadata": {
            "tags": []
          },
          "execution_count": 9
        }
      ]
    },
    {
      "cell_type": "code",
      "metadata": {
        "id": "Mzq4X0pro_SL",
        "colab_type": "code",
        "outputId": "2e96828d-cc32-4662-d60d-9760faf1e49c",
        "colab": {
          "base_uri": "https://localhost:8080/",
          "height": 95
        }
      },
      "source": [
        "# Sorting the Maize production in descending order by Districts, \n",
        "# only taking into account Sub counties where Maize area is larger than Sorghum area, \n",
        "# and displaying the number of Sub counties per district matching that criteria.\n",
        "%%sql\n",
        "SELECT district_name , count(subcounty_name) \"Sub Counties Count\"\n",
        "FROM uganda_crop\n",
        "WHERE M_Area_Ha > S_Area_Ha\n",
        "ORDER BY district_name desc"
      ],
      "execution_count": 0,
      "outputs": [
        {
          "output_type": "stream",
          "text": [
            " * sqlite://\n",
            "Done.\n"
          ],
          "name": "stdout"
        },
        {
          "output_type": "execute_result",
          "data": {
            "text/html": [
              "<table>\n",
              "    <tr>\n",
              "        <th>DISTRICT_NAME</th>\n",
              "        <th>Sub Counties Count</th>\n",
              "    </tr>\n",
              "    <tr>\n",
              "        <td>NAKAPIRIPIRIT</td>\n",
              "        <td>12</td>\n",
              "    </tr>\n",
              "</table>"
            ],
            "text/plain": [
              "[('NAKAPIRIPIRIT', 12)]"
            ]
          },
          "metadata": {
            "tags": []
          },
          "execution_count": 10
        }
      ]
    }
  ]
}